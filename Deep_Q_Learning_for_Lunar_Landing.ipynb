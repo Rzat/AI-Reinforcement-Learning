{
  "cells": [
    {
      "cell_type": "markdown",
      "metadata": {
        "id": "view-in-github",
        "colab_type": "text"
      },
      "source": [
        "<a href=\"https://colab.research.google.com/github/Rzat/AI-Reinforcement-Learning/blob/main/Deep_Q_Learning_for_Lunar_Landing.ipynb\" target=\"_parent\"><img src=\"https://colab.research.google.com/assets/colab-badge.svg\" alt=\"Open In Colab\"/></a>"
      ]
    },
    {
      "cell_type": "markdown",
      "metadata": {
        "id": "LbZcI9ZXHl3a"
      },
      "source": [
        "# Deep Q-Learning for Lunar Landing"
      ]
    },
    {
      "cell_type": "markdown",
      "metadata": {
        "id": "E8yPRjteXgPb"
      },
      "source": [
        "## Part 0 - Installing the required packages and importing the libraries"
      ]
    },
    {
      "cell_type": "markdown",
      "metadata": {
        "id": "slEm5teGWjWU"
      },
      "source": [
        "### Installing Gymnasium"
      ]
    },
    {
      "cell_type": "code",
      "execution_count": 1,
      "metadata": {
        "id": "dbnq3XpoKa_7",
        "colab": {
          "base_uri": "https://localhost:8080/"
        },
        "outputId": "6cae5406-4dbc-448a-8424-8402e0ac28ad"
      },
      "outputs": [
        {
          "output_type": "stream",
          "name": "stdout",
          "text": [
            "Requirement already satisfied: gymnasium in /usr/local/lib/python3.11/dist-packages (1.1.1)\n",
            "Requirement already satisfied: numpy>=1.21.0 in /usr/local/lib/python3.11/dist-packages (from gymnasium) (2.0.2)\n",
            "Requirement already satisfied: cloudpickle>=1.2.0 in /usr/local/lib/python3.11/dist-packages (from gymnasium) (3.1.1)\n",
            "Requirement already satisfied: typing-extensions>=4.3.0 in /usr/local/lib/python3.11/dist-packages (from gymnasium) (4.13.2)\n",
            "Requirement already satisfied: farama-notifications>=0.0.1 in /usr/local/lib/python3.11/dist-packages (from gymnasium) (0.0.4)\n",
            "Requirement already satisfied: gymnasium[accept-rom-license,atari] in /usr/local/lib/python3.11/dist-packages (1.1.1)\n",
            "\u001b[33mWARNING: gymnasium 1.1.1 does not provide the extra 'accept-rom-license'\u001b[0m\u001b[33m\n",
            "\u001b[0mRequirement already satisfied: numpy>=1.21.0 in /usr/local/lib/python3.11/dist-packages (from gymnasium[accept-rom-license,atari]) (2.0.2)\n",
            "Requirement already satisfied: cloudpickle>=1.2.0 in /usr/local/lib/python3.11/dist-packages (from gymnasium[accept-rom-license,atari]) (3.1.1)\n",
            "Requirement already satisfied: typing-extensions>=4.3.0 in /usr/local/lib/python3.11/dist-packages (from gymnasium[accept-rom-license,atari]) (4.13.2)\n",
            "Requirement already satisfied: farama-notifications>=0.0.1 in /usr/local/lib/python3.11/dist-packages (from gymnasium[accept-rom-license,atari]) (0.0.4)\n",
            "Requirement already satisfied: ale_py>=0.9 in /usr/local/lib/python3.11/dist-packages (from gymnasium[accept-rom-license,atari]) (0.11.0)\n",
            "Reading package lists... Done\n",
            "Building dependency tree... Done\n",
            "Reading state information... Done\n",
            "The following additional packages will be installed:\n",
            "  swig4.0\n",
            "Suggested packages:\n",
            "  swig-doc swig-examples swig4.0-examples swig4.0-doc\n",
            "The following NEW packages will be installed:\n",
            "  swig swig4.0\n",
            "0 upgraded, 2 newly installed, 0 to remove and 34 not upgraded.\n",
            "Need to get 1,116 kB of archives.\n",
            "After this operation, 5,542 kB of additional disk space will be used.\n",
            "Get:1 http://archive.ubuntu.com/ubuntu jammy/universe amd64 swig4.0 amd64 4.0.2-1ubuntu1 [1,110 kB]\n",
            "Get:2 http://archive.ubuntu.com/ubuntu jammy/universe amd64 swig all 4.0.2-1ubuntu1 [5,632 B]\n",
            "Fetched 1,116 kB in 1s (934 kB/s)\n",
            "Selecting previously unselected package swig4.0.\n",
            "(Reading database ... 126102 files and directories currently installed.)\n",
            "Preparing to unpack .../swig4.0_4.0.2-1ubuntu1_amd64.deb ...\n",
            "Unpacking swig4.0 (4.0.2-1ubuntu1) ...\n",
            "Selecting previously unselected package swig.\n",
            "Preparing to unpack .../swig_4.0.2-1ubuntu1_all.deb ...\n",
            "Unpacking swig (4.0.2-1ubuntu1) ...\n",
            "Setting up swig4.0 (4.0.2-1ubuntu1) ...\n",
            "Setting up swig (4.0.2-1ubuntu1) ...\n",
            "Processing triggers for man-db (2.10.2-1) ...\n",
            "Requirement already satisfied: gymnasium[box2d] in /usr/local/lib/python3.11/dist-packages (1.1.1)\n",
            "Requirement already satisfied: numpy>=1.21.0 in /usr/local/lib/python3.11/dist-packages (from gymnasium[box2d]) (2.0.2)\n",
            "Requirement already satisfied: cloudpickle>=1.2.0 in /usr/local/lib/python3.11/dist-packages (from gymnasium[box2d]) (3.1.1)\n",
            "Requirement already satisfied: typing-extensions>=4.3.0 in /usr/local/lib/python3.11/dist-packages (from gymnasium[box2d]) (4.13.2)\n",
            "Requirement already satisfied: farama-notifications>=0.0.1 in /usr/local/lib/python3.11/dist-packages (from gymnasium[box2d]) (0.0.4)\n",
            "Collecting box2d-py==2.3.5 (from gymnasium[box2d])\n",
            "  Downloading box2d-py-2.3.5.tar.gz (374 kB)\n",
            "\u001b[2K     \u001b[90m━━━━━━━━━━━━━━━━━━━━━━━━━━━━━━━━━━━━━━━\u001b[0m \u001b[32m374.4/374.4 kB\u001b[0m \u001b[31m6.9 MB/s\u001b[0m eta \u001b[36m0:00:00\u001b[0m\n",
            "\u001b[?25h  Preparing metadata (setup.py) ... \u001b[?25l\u001b[?25hdone\n",
            "Requirement already satisfied: pygame>=2.1.3 in /usr/local/lib/python3.11/dist-packages (from gymnasium[box2d]) (2.6.1)\n",
            "Collecting swig==4.* (from gymnasium[box2d])\n",
            "  Downloading swig-4.3.1-py3-none-manylinux_2_12_x86_64.manylinux2010_x86_64.whl.metadata (3.5 kB)\n",
            "Downloading swig-4.3.1-py3-none-manylinux_2_12_x86_64.manylinux2010_x86_64.whl (1.9 MB)\n",
            "\u001b[2K   \u001b[90m━━━━━━━━━━━━━━━━━━━━━━━━━━━━━━━━━━━━━━━━\u001b[0m \u001b[32m1.9/1.9 MB\u001b[0m \u001b[31m47.9 MB/s\u001b[0m eta \u001b[36m0:00:00\u001b[0m\n",
            "\u001b[?25hBuilding wheels for collected packages: box2d-py\n",
            "  Building wheel for box2d-py (setup.py) ... \u001b[?25l\u001b[?25hdone\n",
            "  Created wheel for box2d-py: filename=box2d_py-2.3.5-cp311-cp311-linux_x86_64.whl size=2351174 sha256=85b33f8d11fb116662d8a5be17919bb8aebf916be0a400fd882cf7651096d93c\n",
            "  Stored in directory: /root/.cache/pip/wheels/ab/f1/0c/d56f4a2bdd12bae0a0693ec33f2f0daadb5eb9753c78fa5308\n",
            "Successfully built box2d-py\n",
            "Installing collected packages: swig, box2d-py\n",
            "Successfully installed box2d-py-2.3.5 swig-4.3.1\n"
          ]
        }
      ],
      "source": [
        "!pip install gymnasium\n",
        "!pip install \"gymnasium[atari, accept-rom-license]\"\n",
        "!apt-get install -y swig\n",
        "!pip install gymnasium[box2d]"
      ]
    },
    {
      "cell_type": "markdown",
      "metadata": {
        "id": "brqiMN3UW9T9"
      },
      "source": [
        "### Importing the libraries"
      ]
    },
    {
      "cell_type": "code",
      "execution_count": 2,
      "metadata": {
        "id": "mZaKXP_aMl9O"
      },
      "outputs": [],
      "source": [
        "#!pip uninstall torch -y\n",
        "#!pip install torch\n",
        "import os\n",
        "import random\n",
        "import numpy as np\n",
        "import torch\n",
        "import torch.nn as nn\n",
        "import torch.optim as optim\n",
        "import torch.nn.functional as F\n",
        "import torch.autograd as autograd\n",
        "from torch.autograd import Variable\n",
        "from collections import deque, namedtuple"
      ]
    },
    {
      "cell_type": "markdown",
      "metadata": {
        "id": "EzlDKXvkXzGI"
      },
      "source": [
        "## Part 1 - Building the AI"
      ]
    },
    {
      "cell_type": "markdown",
      "metadata": {
        "id": "UtG6Zc83YYy3"
      },
      "source": [
        "### Creating the architecture of the Neural Network"
      ]
    },
    {
      "cell_type": "code",
      "source": [
        "class Network(nn.Module):\n",
        "  def __init__(self, state_size, action_size,seed=42):\n",
        "      super(Network, self).__init__()\n",
        "      self.seed = torch.manual_seed(seed)\n",
        "      self.fc1 = nn.Linear(state_size, 64)\n",
        "      self.fc2 = nn.Linear(64, 64)\n",
        "      self.fc3 = nn.Linear(64, action_size)\n",
        "\n",
        "  def forward(self, state):\n",
        "      x = self.fc1(state)\n",
        "      x = F.relu(x)\n",
        "      x = self.fc2(x)\n",
        "      x = F.relu(x)\n",
        "      return self.fc3(x)\n"
      ],
      "metadata": {
        "id": "KuJ4f77pEi13"
      },
      "execution_count": 3,
      "outputs": []
    },
    {
      "cell_type": "markdown",
      "metadata": {
        "id": "UxVrBnFWZKb1"
      },
      "source": [
        "## Part 2 - Training the AI"
      ]
    },
    {
      "cell_type": "markdown",
      "metadata": {
        "id": "T364fz9qZb2j"
      },
      "source": [
        "### Setting up the environment"
      ]
    },
    {
      "cell_type": "code",
      "source": [
        "import gymnasium as gym\n",
        "env = gym.make('LunarLander-v3') # The Lunar Lander environment was upgraded to v3\n",
        "state_shape = env.observation_space.shape\n",
        "state_size = env.observation_space.shape[0]\n",
        "number_actions = env.action_space.n\n",
        "print('State shape: ', state_shape)\n",
        "print('State size: ', state_size)\n",
        "print('Number of actions: ', number_actions)"
      ],
      "metadata": {
        "id": "41sgnpCwtd5f",
        "colab": {
          "base_uri": "https://localhost:8080/"
        },
        "outputId": "9654c939-1fcc-4609-a34f-15ca7ede29d6"
      },
      "execution_count": 4,
      "outputs": [
        {
          "output_type": "stream",
          "name": "stdout",
          "text": [
            "State shape:  (8,)\n",
            "State size:  8\n",
            "Number of actions:  4\n"
          ]
        }
      ]
    },
    {
      "cell_type": "markdown",
      "metadata": {
        "id": "c_dZmOIvZgj-"
      },
      "source": [
        "### Initializing the hyperparameters"
      ]
    },
    {
      "cell_type": "code",
      "source": [
        "learning_rate = 5e-4\n",
        "minitbatch_size = 100\n",
        "discount_factor = 0.99\n",
        "replat_buffer_size = int(1e5)\n",
        "interpolation_parameter = 1e-3"
      ],
      "metadata": {
        "id": "nAXxd_gZLSkc"
      },
      "execution_count": 5,
      "outputs": []
    },
    {
      "cell_type": "markdown",
      "metadata": {
        "id": "8hD_Vs-bYnip"
      },
      "source": [
        "### Implementing Experience Replay"
      ]
    },
    {
      "cell_type": "code",
      "source": [
        "class ReplayMemory(object):\n",
        "\n",
        "  def __init__(self, capacity):\n",
        "    self.device= torch.device(\"cuda:0\" if torch.cuda.is_available() else \"cpu\")\n",
        "    self.capacity = capacity\n",
        "    self.memory = []\n",
        "\n",
        "  def push(self, event):\n",
        "    self.memory.append(event)\n",
        "    if len(self.memory) > self.capacity:\n",
        "      del self.memory[0]\n",
        "\n",
        "  def sample(self, batch_size):\n",
        "    experiences = random.sample(self.memory, batch_size)\n",
        "    states = torch.from_numpy(np.vstack([e[0] for e in experiences if e is not None])).float().to(self.device)\n",
        "    actions = torch.from_numpy(np.vstack([e[1] for e in experiences if e is not None])).long().to(self.device)\n",
        "    rewards = torch.from_numpy(np.vstack([e[2] for e in experiences if e is not None])).float().to(self.device)\n",
        "    next_states = torch.from_numpy(np.vstack([e[3] for e in experiences if e is not None])).float().to(self.device)\n",
        "    dones = torch.from_numpy(np.vstack([e[4] for e in experiences if e is not None]).astype(np.uint8)).float().to(self.device)\n",
        "    return (states, next_states, actions, rewards, dones)"
      ],
      "metadata": {
        "id": "gpzxyPEbM_7G"
      },
      "execution_count": 6,
      "outputs": []
    },
    {
      "cell_type": "markdown",
      "metadata": {
        "id": "JmEkbFbUY6Jt"
      },
      "source": [
        "### Implementing the DQN class"
      ]
    },
    {
      "cell_type": "code",
      "source": [
        "class Agent:\n",
        "  def __init__(self, state_size, action_size):\n",
        "    self.device= torch.device(\"cuda:0\" if torch.cuda.is_available() else \"cpu\")\n",
        "    self.state_size = state_size\n",
        "    self.action_size = action_size\n",
        "    self.local_qnetwork = Network(state_size, action_size).to(self.device)\n",
        "    self.target_qnetwork = Network(state_size, action_size).to(self.device)\n",
        "    self.optimizer = optim.Adam(self.local_qnetwork.parameters(), lr=learning_rate)\n",
        "    self.memory = ReplayMemory(replat_buffer_size)\n",
        "    self.t_step = 0\n",
        "\n",
        "  def step(self, state, action, reward, next_state, done):\n",
        "    self.memory.push((state, action, reward, next_state, done))\n",
        "    self.t_step = (self.t_step + 1) % 4\n",
        "    if self.t_step == 0:\n",
        "      if len(self.memory.memory) > minitbatch_size:\n",
        "        experiences = self.memory.sample(minitbatch_size)\n",
        "        self.learn(experiences, discount_factor)\n",
        "\n",
        "  def act(self, state, epsilon=0.):\n",
        "    state = torch.from_numpy(state).float().unsqueeze(0).to(self.device)\n",
        "    self.local_qnetwork.eval()\n",
        "    with torch.no_grad():\n",
        "      action_values = self.local_qnetwork(state)\n",
        "    self.local_qnetwork.train()\n",
        "    if random.random() > epsilon:\n",
        "      return np.argmax(action_values.cpu().data.numpy())\n",
        "    else:\n",
        "      return random.choice(np.arange(self.action_size))\n",
        "\n",
        "  def learn(self, experiences, gamma):\n",
        "    states, next_states, actions, rewards, dones = experiences\n",
        "    next_q_targets_ = self.target_qnetwork(next_states).detach().max(1)[0].unsqueeze(1)\n",
        "    q_targets = rewards + (gamma * next_q_targets_ * (1 - dones))\n",
        "    q_expected = self.local_qnetwork(states).gather(1, actions)\n",
        "    loss = F.mse_loss(q_expected, q_targets)\n",
        "    self.optimizer.zero_grad()\n",
        "    loss.backward()\n",
        "    self.optimizer.step()\n",
        "    self.soft_update(self.local_qnetwork, self.target_qnetwork, interpolation_parameter)\n",
        "\n",
        "  def soft_update(self, local_model, target_model, interpolation_parameter):\n",
        "    for target_param, local_param in zip(target_model.parameters(), local_model.parameters()):\n",
        "      target_param.data.copy_(interpolation_parameter * local_param.data + (1.0 - interpolation_parameter) * target_param.data)\n"
      ],
      "metadata": {
        "id": "OTq9q63YeAiH"
      },
      "execution_count": 7,
      "outputs": []
    },
    {
      "cell_type": "markdown",
      "metadata": {
        "id": "o1tZElccZmf6"
      },
      "source": [
        "### Initializing the DQN agent"
      ]
    },
    {
      "cell_type": "code",
      "source": [
        "agent = Agent(state_size, number_actions)"
      ],
      "metadata": {
        "id": "TbwwyUKZfJPl"
      },
      "execution_count": 8,
      "outputs": []
    },
    {
      "cell_type": "markdown",
      "metadata": {
        "id": "E8v0PtUfaVQp"
      },
      "source": [
        "### Training the DQN agent"
      ]
    },
    {
      "cell_type": "code",
      "source": [
        "number_episode =2000\n",
        "maximum_number_timestamp_per_episode = 1000\n",
        "eps_starting_value = 1.0\n",
        "eps_ending_value = 0.01\n",
        "eps_decay_value = 0.995\n",
        "epsilon = eps_starting_value\n",
        "scores_on_100_episodes = deque(maxlen=100)\n",
        "\n",
        "\n",
        "for episode in range(1, number_episode+1):\n",
        "  state, _ = env.reset()\n",
        "  score = 0\n",
        "  for timestamp in range(maximum_number_timestamp_per_episode):\n",
        "    action = agent.act(state, epsilon)\n",
        "    next_state, reward, done, _, _ = env.step(action)\n",
        "    agent.step(state, action, reward, next_state, done)\n",
        "    state = next_state\n",
        "    score += reward\n",
        "    if done:\n",
        "      break\n",
        "  scores_on_100_episodes.append(score)\n",
        "  epsilon = max(eps_ending_value, eps_decay_value*epsilon)\n",
        "  print('\\rEpisode {}\\tAverage Score: {:.2f}'.format(episode, np.mean(scores_on_100_episodes)), end=\"\")\n",
        "  if episode % 100 == 0:\n",
        "    print('\\rEpisode {}\\tAverage Score: {:.2f}'.format(episode, np.mean(scores_on_100_episodes)))\n",
        "  if np.mean(scores_on_100_episodes) >= 200.0:\n",
        "    print('\\nEnvironment solved in {:d} episodes!\\tAverage Score: {:.2f}'.format(episode-100, np.mean(scores_on_100_episodes)))\n",
        "    torch.save(agent.local_qnetwork.state_dict(), 'checkpoint.pth')\n",
        "    break\n",
        "\n"
      ],
      "metadata": {
        "colab": {
          "base_uri": "https://localhost:8080/"
        },
        "id": "HTvaA32-iyrc",
        "outputId": "90642a46-c795-4fe1-8ec0-2747385c7400"
      },
      "execution_count": 10,
      "outputs": [
        {
          "output_type": "stream",
          "name": "stdout",
          "text": [
            "Episode 100\tAverage Score: -179.48\n",
            "Episode 200\tAverage Score: -106.85\n",
            "Episode 300\tAverage Score: -45.17\n",
            "Episode 400\tAverage Score: 14.58\n",
            "Episode 500\tAverage Score: 130.11\n",
            "Episode 600\tAverage Score: 158.39\n",
            "Episode 700\tAverage Score: 134.11\n",
            "Episode 800\tAverage Score: 148.10\n",
            "Episode 900\tAverage Score: 186.14\n",
            "Episode 930\tAverage Score: 201.88\n",
            "Environment solved in 830 episodes!\tAverage Score: 201.88\n"
          ]
        }
      ]
    },
    {
      "cell_type": "markdown",
      "metadata": {
        "id": "O8CNwdOTcCoP"
      },
      "source": [
        "## Part 3 - Visualizing the results"
      ]
    },
    {
      "cell_type": "code",
      "execution_count": 11,
      "metadata": {
        "id": "cb9nVvU2Okhk",
        "colab": {
          "base_uri": "https://localhost:8080/",
          "height": 458
        },
        "outputId": "aa0ac9c5-3fd5-48a3-942d-41160286df8d"
      },
      "outputs": [
        {
          "output_type": "stream",
          "name": "stderr",
          "text": [
            "WARNING:imageio_ffmpeg:IMAGEIO FFMPEG_WRITER WARNING: input image is not divisible by macro_block_size=16, resizing from (600, 400) to (608, 400) to ensure video compatibility with most codecs and players. To prevent resizing, make your input image divisible by the macro_block_size or set the macro_block_size to 1 (risking incompatibility).\n"
          ]
        },
        {
          "output_type": "display_data",
          "data": {
            "text/plain": [
              "<IPython.core.display.HTML object>"
            ],
            "text/html": [
              "<video alt=\"test\" autoplay\n",
              "                loop controls style=\"height: 400px;\">\n",
              "                <source src=\"data:video/mp4;base64,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\" type=\"video/mp4\" />\n",
              "             </video>"
            ]
          },
          "metadata": {}
        }
      ],
      "source": [
        "import glob\n",
        "import io\n",
        "import base64\n",
        "import imageio\n",
        "from IPython.display import HTML, display\n",
        "\n",
        "def show_video_of_model(agent, env_name):\n",
        "    env = gym.make(env_name, render_mode='rgb_array')\n",
        "    state, _ = env.reset()\n",
        "    done = False\n",
        "    frames = []\n",
        "    while not done:\n",
        "        frame = env.render()\n",
        "        frames.append(frame)\n",
        "        action = agent.act(state)\n",
        "        state, reward, done, _, _ = env.step(action.item())\n",
        "    env.close()\n",
        "    imageio.mimsave('video.mp4', frames, fps=30)\n",
        "\n",
        "show_video_of_model(agent, 'LunarLander-v3')\n",
        "\n",
        "def show_video():\n",
        "    mp4list = glob.glob('*.mp4')\n",
        "    if len(mp4list) > 0:\n",
        "        mp4 = mp4list[0]\n",
        "        video = io.open(mp4, 'r+b').read()\n",
        "        encoded = base64.b64encode(video)\n",
        "        display(HTML(data='''<video alt=\"test\" autoplay\n",
        "                loop controls style=\"height: 400px;\">\n",
        "                <source src=\"data:video/mp4;base64,{0}\" type=\"video/mp4\" />\n",
        "             </video>'''.format(encoded.decode('ascii'))))\n",
        "    else:\n",
        "        print(\"Could not find video\")\n",
        "\n",
        "show_video()"
      ]
    }
  ],
  "metadata": {
    "colab": {
      "provenance": [],
      "collapsed_sections": [
        "slEm5teGWjWU",
        "brqiMN3UW9T9"
      ],
      "include_colab_link": true
    },
    "kernelspec": {
      "display_name": "Python 3",
      "name": "python3"
    },
    "language_info": {
      "name": "python"
    }
  },
  "nbformat": 4,
  "nbformat_minor": 0
}